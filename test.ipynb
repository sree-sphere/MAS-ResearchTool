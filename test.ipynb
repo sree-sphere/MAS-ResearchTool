{
 "cells": [
  {
   "cell_type": "code",
   "execution_count": 1,
   "id": "eb59d459",
   "metadata": {},
   "outputs": [
    {
     "name": "stdout",
     "output_type": "stream",
     "text": [
      "\u001b[01;34m.\u001b[0m\n",
      "├── \u001b[00mREADME.docx\u001b[0m\n",
      "├── \u001b[00mREADME.md\u001b[0m\n",
      "├── \u001b[00mREADME.pdf\u001b[0m\n",
      "├── \u001b[01;34m__pycache__\u001b[0m\n",
      "│   ├── \u001b[00mexample_usage.cpython-312.pyc\u001b[0m\n",
      "│   ├── \u001b[00mmulti_agent_system.cpython-312.pyc\u001b[0m\n",
      "│   └── \u001b[00mmulti_agent_system.cpython-39.pyc\u001b[0m\n",
      "├── \u001b[00mexample_usage.py\u001b[0m\n",
      "├── \u001b[00mmain.py\u001b[0m\n",
      "├── \u001b[00mmulti_agent_system.py\u001b[0m\n",
      "├── \u001b[00mpyproject.toml\u001b[0m\n",
      "├── \u001b[00mpython-dotenv_1750866022.txt\u001b[0m\n",
      "├── \u001b[00mrequirements.txt\u001b[0m\n",
      "├── \u001b[00mtest.ipynb\u001b[0m\n",
      "└── \u001b[00muv.lock\u001b[0m\n",
      "\n",
      "2 directories, 14 files\n"
     ]
    }
   ],
   "source": [
    "!tree"
   ]
  },
  {
   "cell_type": "code",
   "execution_count": 3,
   "id": "372a638d",
   "metadata": {},
   "outputs": [
    {
     "name": "stdout",
     "output_type": "stream",
     "text": [
      "Collecting directory-tree\n",
      "  Using cached directory_tree-1.0.0-py3-none-any.whl.metadata (9.0 kB)\n",
      "Using cached directory_tree-1.0.0-py3-none-any.whl (23 kB)\n",
      "Installing collected packages: directory-tree\n",
      "Successfully installed directory-tree-1.0.0\n"
     ]
    }
   ],
   "source": [
    "!pip install directory-tree"
   ]
  },
  {
   "cell_type": "code",
   "execution_count": 4,
   "id": "42303417",
   "metadata": {},
   "outputs": [
    {
     "name": "stdout",
     "output_type": "stream",
     "text": [
      "283907663347879-all-task-files/\n",
      "├── __pycache__/\n",
      "│   ├── example_usage.cpython-312.pyc\n",
      "│   ├── multi_agent_system.cpython-312.pyc\n",
      "│   └── multi_agent_system.cpython-39.pyc\n",
      "├── myenv/\n",
      "├── pyproject.toml\n",
      "├── python-dotenv_1750866022.txt\n",
      "├── README.docx\n",
      "├── README.md\n",
      "├── README.pdf\n",
      "├── requirements.txt\n",
      "├── src/\n",
      "│   ├── __init__.py\n",
      "│   ├── __pycache__/\n",
      "│   ├── demo.py\n",
      "│   ├── main.py\n",
      "│   └── multi_agent_system.py\n",
      "├── test.ipynb\n",
      "├── tests/\n",
      "└── uv.lock\n"
     ]
    }
   ],
   "source": [
    "from directory_tree import DisplayTree\n",
    "\n",
    "DisplayTree(maxDepth=2)"
   ]
  },
  {
   "cell_type": "code",
   "execution_count": null,
   "id": "1be015ab",
   "metadata": {},
   "outputs": [],
   "source": [
    "283907663347879-all-task-files/\n",
    "├── __pycache__/\n",
    "├── myenv/\n",
    "├── pyproject.toml\n",
    "├── README.md\n",
    "├── requirements.txt\n",
    "├── src/\n",
    "│   ├── __init__.py\n",
    "│   ├── __pycache__/\n",
    "│   ├── main.py\n",
    "│   └── multi_agent_system.py\n",
    "├── test.ipynb\n",
    "├── tests/\n",
    "└── uv.lock"
   ]
  }
 ],
 "metadata": {
  "kernelspec": {
   "display_name": "finetune",
   "language": "python",
   "name": "python3"
  },
  "language_info": {
   "codemirror_mode": {
    "name": "ipython",
    "version": 3
   },
   "file_extension": ".py",
   "mimetype": "text/x-python",
   "name": "python",
   "nbconvert_exporter": "python",
   "pygments_lexer": "ipython3",
   "version": "3.12.7"
  }
 },
 "nbformat": 4,
 "nbformat_minor": 5
}
